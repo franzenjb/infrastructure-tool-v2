{
 "cells": [
  {
   "cell_type": "markdown",
   "metadata": {},
   "source": [
    "# HIFLD Layer Search - Proof of Concept\n",
    "Simple tool to search and display HIFLD infrastructure layers"
   ]
  },
  {
   "cell_type": "code",
   "execution_count": null,
   "metadata": {},
   "outputs": [],
   "source": [
    "# Setup\n",
    "import pandas as pd\n",
    "from arcgis.gis import GIS\n",
    "\n",
    "# Load HIFLD data\n",
    "df = pd.read_csv('HIFLD_Open_Crosswalk_Geoplatform.csv')\n",
    "print(f\"Loaded {len(df)} infrastructure layers\")\n",
    "\n",
    "# Connect to ArcGIS\n",
    "gis = GIS()\n",
    "print(\"Connected to ArcGIS\")"
   ]
  },
  {
   "cell_type": "code",
   "execution_count": null,
   "metadata": {},
   "outputs": [],
   "source": [
    "# Search function\n",
    "def search_layers(keyword):\n",
    "    \"\"\"Search for layers by keyword\"\"\"\n",
    "    keyword = keyword.lower()\n",
    "    results = df[df['Layer Name'].str.lower().str.contains(keyword, na=False)]\n",
    "    \n",
    "    print(f\"\\nSearch results for '{keyword}':\")\n",
    "    print(\"=\" * 50)\n",
    "    \n",
    "    for i, (_, row) in enumerate(results.head(10).iterrows()):\n",
    "        print(f\"\\n{i+1}. {row['Layer Name']}\")\n",
    "        print(f\"   Agency: {row['Agency']}\")\n",
    "        if pd.notna(row['Open REST Service']):\n",
    "            print(f\"   ✓ Map available\")\n",
    "    \n",
    "    return results"
   ]
  },
  {
   "cell_type": "code",
   "execution_count": null,
   "metadata": {},
   "outputs": [],
   "source": "# Display layer on map\ndef show_on_map(layer_name):\n    \"\"\"Display a specific layer on the map\"\"\"\n    # Find the layer\n    layer = df[df['Layer Name'] == layer_name]\n    \n    if layer.empty:\n        print(f\"Layer '{layer_name}' not found\")\n        return None\n    \n    row = layer.iloc[0]\n    url = row['Open REST Service']\n    \n    if pd.isna(url):\n        print(f\"No map service available for {layer_name}\")\n        return None\n    \n    # Create map\n    print(f\"\\nDisplaying: {layer_name}\")\n    print(f\"Agency: {row['Agency']}\")\n    print(f\"URL: {url}\")\n    \n    map_widget = gis.map('USA')\n    \n    try:\n        # Handle MapServer sublayer URLs (e.g., ending with /51)\n        if '/MapServer/' in url and url[-1].isdigit():\n            # Extract base URL and layer ID\n            base_url = url.split('/MapServer/')[0] + '/MapServer'\n            layer_id = int(url.split('/')[-1])\n            print(f\"Adding MapServer sublayer {layer_id} from {base_url}\")\n            map_widget.add_layer({'url': base_url, 'sublayers': [layer_id]})\n        else:\n            # Regular feature service\n            map_widget.add_layer({'url': url})\n        \n        print(\"✓ Layer added successfully!\")\n    except Exception as e:\n        print(f\"Error adding layer: {e}\")\n        # Try alternative method\n        try:\n            print(\"Trying alternative method...\")\n            map_widget.add_layer({'url': url})\n            print(\"✓ Layer added with alternative method!\")\n        except Exception as e2:\n            print(f\"Both methods failed: {e2}\")\n    \n    return map_widget"
  },
  {
   "cell_type": "markdown",
   "metadata": {},
   "source": "## Try it out!\nRun the cells below to search for different infrastructure types",
   "execution_count": null,
   "outputs": []
  },
  {
   "cell_type": "code",
   "execution_count": null,
   "metadata": {},
   "outputs": [],
   "source": [
    "# Search for fire stations\n",
    "fire_results = search_layers('fire')"
   ]
  },
  {
   "cell_type": "code",
   "execution_count": null,
   "metadata": {},
   "outputs": [],
   "source": [
    "# Display fire stations on map\n",
    "fire_map = show_on_map('Fire and Emergency Medical Service (EMS) Stations')\n",
    "fire_map"
   ]
  },
  {
   "cell_type": "code",
   "execution_count": null,
   "metadata": {},
   "outputs": [],
   "source": [
    "# Search for hospitals\n",
    "hospital_results = search_layers('hospital')"
   ]
  },
  {
   "cell_type": "code",
   "execution_count": null,
   "metadata": {},
   "outputs": [],
   "source": [
    "# Search for schools\n",
    "school_results = search_layers('school')"
   ]
  },
  {
   "cell_type": "code",
   "execution_count": null,
   "metadata": {},
   "outputs": [],
   "source": [
    "# Combined search and map\n",
    "def quick_map(keyword):\n",
    "    \"\"\"Search and display first result\"\"\"\n",
    "    results = search_layers(keyword)\n",
    "    \n",
    "    # Find first layer with map\n",
    "    for _, row in results.iterrows():\n",
    "        if pd.notna(row['Open REST Service']):\n",
    "            return show_on_map(row['Layer Name'])\n",
    "    \n",
    "    print(\"No mappable layers found\")\n",
    "    return None"
   ]
  },
  {
   "cell_type": "code",
   "execution_count": null,
   "metadata": {},
   "outputs": [],
   "source": [
    "# Quick map example\n",
    "power_map = quick_map('power')\n",
    "power_map"
   ]
  },
  {
   "cell_type": "markdown",
   "metadata": {},
   "source": [
    "## Save Map Example\n",
    "How to save a map with metadata"
   ]
  },
  {
   "cell_type": "code",
   "execution_count": null,
   "metadata": {},
   "outputs": [],
   "source": [
    "# Save map function\n",
    "def save_map_suggestion(layer_name):\n",
    "    \"\"\"Generate save suggestions for a layer\"\"\"\n",
    "    layer = df[df['Layer Name'] == layer_name].iloc[0]\n",
    "    \n",
    "    # Suggest metadata\n",
    "    title = f\"HIFLD {layer_name} Map\"\n",
    "    summary = f\"Map showing {layer_name} from {layer['Agency']}\"\n",
    "    tags = ['HIFLD', 'infrastructure', layer['Agency'], layer_name.split()[0]]\n",
    "    \n",
    "    print(\"Suggested map metadata:\")\n",
    "    print(f\"\\nTitle: {title}\")\n",
    "    print(f\"Summary: {summary}\")\n",
    "    print(f\"Tags: {', '.join(tags)}\")\n",
    "    \n",
    "    return {'title': title, 'summary': summary, 'tags': tags}\n",
    "\n",
    "# Example\n",
    "save_map_suggestion('Colleges and Universities')"
   ]
  }
 ],
 "metadata": {
  "kernelspec": {
   "display_name": "Python 3",
   "language": "python",
   "name": "python3"
  },
  "language_info": {
   "name": "python",
   "version": "3.8.0"
  }
 },
 "nbformat": 4,
 "nbformat_minor": 4
}